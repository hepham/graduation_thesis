{
  "nbformat": 4,
  "nbformat_minor": 0,
  "metadata": {
    "colab": {
      "provenance": [],
      "authorship_tag": "ABX9TyMhPb7jwOJIc16RjA/41CRM",
      "include_colab_link": true
    },
    "kernelspec": {
      "name": "python3",
      "display_name": "Python 3"
    },
    "language_info": {
      "name": "python"
    }
  },
  "cells": [
    {
      "cell_type": "markdown",
      "metadata": {
        "id": "view-in-github",
        "colab_type": "text"
      },
      "source": [
        "<a href=\"https://colab.research.google.com/github/hepham/graduation_thesis/blob/main/kerasNeuralNetwork.ipynb\" target=\"_parent\"><img src=\"https://colab.research.google.com/assets/colab-badge.svg\" alt=\"Open In Colab\"/></a>"
      ]
    },
    {
      "cell_type": "code",
      "source": [
        "import numpy as np\n",
        "import pandas as pd\n",
        "import math\n",
        "import matplotlib.pyplot as plt\n",
        "from sklearn.metrics import confusion_matrix\n",
        "from functools import reduce\n",
        "import requests\n",
        "from sklearn.preprocessing import StandardScaler\n",
        "from scipy import optimize\n",
        "import tensorflow as tf\n",
        "import sklearn\n",
        "from sklearn import datasets\n",
        "from sklearn import metrics\n",
        "from sklearn import model_selection\n",
        "from sklearn import preprocessing\n",
        "from tqdm.notebook import tqdm_notebook as tqdm\n",
        "import tensorflow as tf\n",
        "from tensorflow import keras\n",
        "from tensorflow.keras.optimizers import Adam"
      ],
      "metadata": {
        "id": "NkJ1tW0X4fwb"
      },
      "execution_count": null,
      "outputs": []
    },
    {
      "cell_type": "code",
      "execution_count": null,
      "metadata": {
        "colab": {
          "base_uri": "https://localhost:8080/"
        },
        "id": "LdInrlYL4FCr",
        "outputId": "51240cee-55c7-4832-fc98-da3e66ea8f77"
      },
      "outputs": [
        {
          "output_type": "stream",
          "name": "stdout",
          "text": [
            "Drive already mounted at /content/gdrive; to attempt to forcibly remount, call drive.mount(\"/content/gdrive\", force_remount=True).\n"
          ]
        }
      ],
      "source": [
        "from google.colab import drive\n",
        "drive.mount('/content/gdrive')\n",
        "path_train='/content/gdrive/MyDrive/datakltn/datatest.csv'\n",
        "path_test='/content/gdrive/MyDrive/datakltn/area0/test.csv'"
      ]
    },
    {
      "cell_type": "code",
      "source": [
        "data_train=pd.read_csv(path_train)\n",
        "data_test=pd.read_csv(path_test)\n",
        "data_train.info()"
      ],
      "metadata": {
        "colab": {
          "base_uri": "https://localhost:8080/"
        },
        "id": "b6d5pFe24ZLM",
        "outputId": "c9139cb4-cac4-42ad-d7bb-0ed48ac0b1f6"
      },
      "execution_count": null,
      "outputs": [
        {
          "output_type": "stream",
          "name": "stdout",
          "text": [
            "<class 'pandas.core.frame.DataFrame'>\n",
            "RangeIndex: 48600 entries, 0 to 48599\n",
            "Data columns (total 21 columns):\n",
            " #   Column          Non-Null Count  Dtype\n",
            "---  ------          --------------  -----\n",
            " 0   Position Label  48600 non-null  int64\n",
            " 1   Beacon1         48600 non-null  int64\n",
            " 2   RSSI1           48600 non-null  int64\n",
            " 3   Beacon2         48600 non-null  int64\n",
            " 4   RSSI2           48600 non-null  int64\n",
            " 5   Beacon3         48600 non-null  int64\n",
            " 6   RSSI3           48600 non-null  int64\n",
            " 7   Beacon4         48600 non-null  int64\n",
            " 8   RSSI4           48600 non-null  int64\n",
            " 9   Beacon5         48600 non-null  int64\n",
            " 10  RSSI5           48600 non-null  int64\n",
            " 11  Beacon6         48600 non-null  int64\n",
            " 12  RSSI6           48600 non-null  int64\n",
            " 13  Beacon7         48600 non-null  int64\n",
            " 14  RSSI7           48600 non-null  int64\n",
            " 15  Beacon8         48600 non-null  int64\n",
            " 16  RSSI8           48600 non-null  int64\n",
            " 17  Beacon9         48600 non-null  int64\n",
            " 18  RSSI9           48600 non-null  int64\n",
            " 19  Beacon10        48600 non-null  int64\n",
            " 20  RSSI10          48600 non-null  int64\n",
            "dtypes: int64(21)\n",
            "memory usage: 7.8 MB\n"
          ]
        }
      ]
    },
    {
      "cell_type": "code",
      "source": [
        "data_train.head()\n",
        "print(\"shape:\",data_train.shape)\n",
        "data_train=data_train.abs()\n",
        "data_test=data_test.abs()"
      ],
      "metadata": {
        "colab": {
          "base_uri": "https://localhost:8080/"
        },
        "id": "HWVS5hPJ4bY1",
        "outputId": "849cd801-70ef-4927-d1c9-1f8b283d55ea"
      },
      "execution_count": null,
      "outputs": [
        {
          "output_type": "stream",
          "name": "stdout",
          "text": [
            "shape: (48600, 21)\n"
          ]
        }
      ]
    },
    {
      "cell_type": "code",
      "source": [
        "def prepare_data():\n",
        " # Selecting the Feature, by remove the unused feature \n",
        "  feature = ['Position Label']\n",
        "  train_feature =data_train.drop(feature, axis=1)\n",
        "\n",
        "  # Set The Target\n",
        "  train_target = data_train[\"Position Label\"]\n",
        "  # Split Data\n",
        "  from sklearn.model_selection import train_test_split, cross_val_score\n",
        "  X_train, X_test, y_train, y_test = train_test_split(train_feature ,train_target, test_size=0.3, random_state=42)\n",
        "  # X_train=X_train.to_numpy()\n",
        "  # for i in X_train:\n",
        "  #   for j in i:\n",
        "  #     if j<0:\n",
        "  #       j=-j\n",
        "  #       print(j)\n",
        "  X_train=X_train.to_numpy()\n",
        "  X_test=X_test.to_numpy()\n",
        "  y_train=y_train.to_numpy()\n",
        "  y_test = y_test .to_numpy()\n",
        "  # transform = preprocessing.MinMaxScaler()\n",
        "  # X_train = transform.fit_transform(X_train)\n",
        "  # X_test = transform.transform(X_test)\n",
        "  return X_train, X_test, y_train, y_test"
      ],
      "metadata": {
        "id": "OVer1F7A45JJ"
      },
      "execution_count": null,
      "outputs": []
    },
    {
      "cell_type": "code",
      "source": [
        "X_train, X_test, y_train, y_test = prepare_data()"
      ],
      "metadata": {
        "id": "u3GbfIkk5CgR"
      },
      "execution_count": null,
      "outputs": []
    },
    {
      "cell_type": "code",
      "source": [
        "#Dependencies\n",
        "print(X_train[0])\n",
        "import keras\n",
        "from keras.models import Sequential\n",
        "from keras.layers import Dense\n",
        "# Neural network\n",
        "from sklearn import preprocessing\n",
        "model = Sequential()\n",
        "model.add(Dense(1024, input_dim=100, activation='relu'))\n",
        "model.add(Dense(512, activation='relu'))\n",
        "model.add(Dense(80, activation='softmax'))"
      ],
      "metadata": {
        "id": "kiYuLYSL5CpP",
        "colab": {
          "base_uri": "https://localhost:8080/"
        },
        "outputId": "3e5fbfcd-c00a-4c40-ad65-e4f12b7fa714"
      },
      "execution_count": null,
      "outputs": [
        {
          "output_type": "stream",
          "name": "stdout",
          "text": [
            "[73 74 75 88 66 67 56 70 78 79 74 76 72 73 63 55 55 67 80 79 79 72 73 72\n",
            " 64 66 59 66 77 79 89 78 71 77 66 65 60 65 76 84 83 76 80 73 64 67 61 73\n",
            " 77 76 70 75 73 86 65 66 60 65 78 77 81 76 77 76 64 67 58 65 78 81 73 95\n",
            " 79 85 63 68 58 65 77 85 84 73 78 75 71 65 58 66 79 84 71 73 81 84 64 67\n",
            " 59 66 92 79]\n"
          ]
        }
      ]
    },
    {
      "cell_type": "code",
      "source": [
        "model.compile( optimizer=Adam(learning_rate=0.0001),loss='sparse_categorical_crossentropy',metrics=['accuracy'])"
      ],
      "metadata": {
        "id": "lCCs65377LUO"
      },
      "execution_count": null,
      "outputs": []
    },
    {
      "cell_type": "code",
      "source": [
        "from keras.callbacks import ModelCheckpoint\n",
        "filepath = '/content/gdrive/MyDrive/datakltn/model_epoch_{epoch:02d}_loss_{loss:0.2f}_val_{val_loss:.2f}.hdf5'\n",
        "checkpointer = ModelCheckpoint(filepath=filepath,\n",
        "                             monitor='val_accuracy',\n",
        "                             verbose=1,\n",
        "                             save_best_only=True)"
      ],
      "metadata": {
        "id": "rkU8wWceQiPh"
      },
      "execution_count": null,
      "outputs": []
    },
    {
      "cell_type": "code",
      "source": [
        "model.summary()"
      ],
      "metadata": {
        "colab": {
          "base_uri": "https://localhost:8080/"
        },
        "id": "vgPgFPIe95oO",
        "outputId": "3ed58c8d-2393-4726-e9d4-9f98774fe306"
      },
      "execution_count": null,
      "outputs": [
        {
          "output_type": "stream",
          "name": "stdout",
          "text": [
            "Model: \"sequential_5\"\n",
            "_________________________________________________________________\n",
            " Layer (type)                Output Shape              Param #   \n",
            "=================================================================\n",
            " dense_15 (Dense)            (None, 1024)              103424    \n",
            "                                                                 \n",
            " dense_16 (Dense)            (None, 512)               524800    \n",
            "                                                                 \n",
            " dense_17 (Dense)            (None, 80)                41040     \n",
            "                                                                 \n",
            "=================================================================\n",
            "Total params: 669,264\n",
            "Trainable params: 669,264\n",
            "Non-trainable params: 0\n",
            "_________________________________________________________________\n"
          ]
        }
      ]
    },
    {
      "cell_type": "code",
      "source": [
        "def def euclideanDistance(Point1, Point2):\n",
        "    distance = 0\n",
        "    for x in range(0,len(Point2)):\n",
        "      distance += pow((Point1[x] - Point2[x]), 2)\n",
        "    return math.sqrt(distance)"
      ],
      "metadata": {
        "id": "LOsl2hp5PsIr"
      },
      "execution_count": null,
      "outputs": []
    }
  ]
}